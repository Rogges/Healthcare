{
 "cells": [
  {
   "cell_type": "code",
   "execution_count": 1,
   "metadata": {},
   "outputs": [],
   "source": [
    "import pandas as pd\n",
    "import numpy as np\n",
    "import matplotlib.pyplot as plt\n",
    "import seaborn as sns\n",
    "from sklearn.ensemble import RandomForestClassifier\n",
    "from sklearn.feature_selection import RFECV\n",
    "from sklearn.model_selection import train_test_split, RandomizedSearchCV, StratifiedKFold, cross_val_score\n",
    "from sklearn.metrics import classification_report,confusion_matrix\n",
    "from sklearn.svm import SVC\n",
    "from sklearn.linear_model import LogisticRegression"
   ]
  },
  {
   "cell_type": "code",
   "execution_count": 2,
   "metadata": {},
   "outputs": [],
   "source": [
    "data = pd.read_csv('liver-patient-clean.csv')\n",
    "data.drop([\"Unnamed: 0\"], axis = 1, inplace = True)"
   ]
  },
  {
   "cell_type": "code",
   "execution_count": 3,
   "metadata": {},
   "outputs": [],
   "source": [
    "X = data.drop([\"Liver Patient\"], axis = 1).copy()\n",
    "y = data[\"Liver Patient\"].copy()\n",
    "\n",
    "X_train, X_test, y_train, y_test = train_test_split(X, y)"
   ]
  },
  {
   "cell_type": "code",
   "execution_count": 4,
   "metadata": {},
   "outputs": [],
   "source": [
    "models = {\"Logistic Regression\": LogisticRegression(),\n",
    "          \"Random Forest\": RandomForestClassifier()}\n",
    "\n",
    "parameters = {\"Logistic Regression\": {'C': [0.001,0.01,0.1,1,10],\n",
    "                                      'max_iter': [1000, 2500, 5000]},\n",
    "              \"Random Forest\": {\"n_estimators\": [100, 300, 500, 800, 1200],\n",
    "                                \"max_depth\": [5, 10, 15, 25, 30],\n",
    "                                \"min_samples_split\": [2, 5, 10, 25, 100],\n",
    "                                \"min_samples_leaf\": [1, 2, 5, 10]}}\n",
    "\n",
    "trained_models = {key: None for key in parameters.keys()}\n",
    "\n",
    "classfications = {key: None for key in parameters.keys()}"
   ]
  },
  {
   "cell_type": "code",
   "execution_count": 5,
   "metadata": {},
   "outputs": [],
   "source": [
    "def parameter_tuning(name, model, models, parameters, X, y, i, kfold = 5):\n",
    "    random = RandomizedSearchCV(model, parameters, cv = kfold)\n",
    "    random.fit(X, y)\n",
    "    \n",
    "    if i == 0:\n",
    "        return LogisticRegression(penalty = 'l2', **random.best_params_)\n",
    "    elif i == 1:\n",
    "        return RandomForestClassifier(**random.best_params_)\n",
    "\n",
    "def feature_selection(model, X, y, kfold = 5):\n",
    "    features = RFECV(model, cv = kfold)\n",
    "    features.fit(X, y)\n",
    "    \n",
    "    return X[X.columns[features.support_]], X.columns[features.support_]\n",
    "\n",
    "def cross_test(model, X, y, score, kfold = 5):\n",
    "    cv_results = cross_val_score(model, X, y, cv = kfold, scoring = score)\n",
    "    return [cv_results.mean(), cv_results.std()]"
   ]
  },
  {
   "cell_type": "code",
   "execution_count": 6,
   "metadata": {},
   "outputs": [],
   "source": [
    "k_fold = StratifiedKFold(n_splits = 10, shuffle = True, random_state = 3)"
   ]
  },
  {
   "cell_type": "code",
   "execution_count": 7,
   "metadata": {},
   "outputs": [
    {
     "name": "stdout",
     "output_type": "stream",
     "text": [
      "Train Accuracy Logistic Regression: 0.7299154334038055 (0.0306544798289862)\n",
      "Train Accuracy Random Forest: 0.727431289640592 (0.04446099978974973)\n"
     ]
    }
   ],
   "source": [
    "for name, model, i in zip(models.keys(), models.values(), range(0, 2)):\n",
    "    model = parameter_tuning(name, model, models, parameters[name], X_train, y_train, i, kfold = k_fold)\n",
    "    X_train, columns = feature_selection(model, X_train, y_train, kfold = k_fold)\n",
    "    model.fit(X_train, y_train)\n",
    "    trained_models[name] = model\n",
    "    train_results = cross_test(model, X_train, y_train, score = 'accuracy', kfold = k_fold)\n",
    "    print(f\"Train Accuracy {name}: {train_results[0]} ({train_results[1]})\")\n",
    "    report = classification_report(y_test, model.predict(X_test[columns]), output_dict = True)\n",
    "    report_simple = {0: report[\"0\"], 1: report[\"1\"]}\n",
    "    classfications[name] = pd.DataFrame(report_simple)"
   ]
  },
  {
   "cell_type": "code",
   "execution_count": 8,
   "metadata": {},
   "outputs": [
    {
     "data": {
      "text/html": [
       "<div>\n",
       "<style scoped>\n",
       "    .dataframe tbody tr th:only-of-type {\n",
       "        vertical-align: middle;\n",
       "    }\n",
       "\n",
       "    .dataframe tbody tr th {\n",
       "        vertical-align: top;\n",
       "    }\n",
       "\n",
       "    .dataframe thead th {\n",
       "        text-align: right;\n",
       "    }\n",
       "</style>\n",
       "<table border=\"1\" class=\"dataframe\">\n",
       "  <thead>\n",
       "    <tr style=\"text-align: right;\">\n",
       "      <th></th>\n",
       "      <th>0</th>\n",
       "      <th>1</th>\n",
       "    </tr>\n",
       "  </thead>\n",
       "  <tbody>\n",
       "    <tr>\n",
       "      <th>precision</th>\n",
       "      <td>0.666667</td>\n",
       "      <td>0.742188</td>\n",
       "    </tr>\n",
       "    <tr>\n",
       "      <th>recall</th>\n",
       "      <td>0.266667</td>\n",
       "      <td>0.940594</td>\n",
       "    </tr>\n",
       "    <tr>\n",
       "      <th>f1-score</th>\n",
       "      <td>0.380952</td>\n",
       "      <td>0.829694</td>\n",
       "    </tr>\n",
       "    <tr>\n",
       "      <th>support</th>\n",
       "      <td>45.000000</td>\n",
       "      <td>101.000000</td>\n",
       "    </tr>\n",
       "  </tbody>\n",
       "</table>\n",
       "</div>"
      ],
      "text/plain": [
       "                   0           1\n",
       "precision   0.666667    0.742188\n",
       "recall      0.266667    0.940594\n",
       "f1-score    0.380952    0.829694\n",
       "support    45.000000  101.000000"
      ]
     },
     "execution_count": 8,
     "metadata": {},
     "output_type": "execute_result"
    }
   ],
   "source": [
    "classfications[\"Logistic Regression\"]"
   ]
  },
  {
   "cell_type": "code",
   "execution_count": 9,
   "metadata": {},
   "outputs": [
    {
     "data": {
      "text/html": [
       "<div>\n",
       "<style scoped>\n",
       "    .dataframe tbody tr th:only-of-type {\n",
       "        vertical-align: middle;\n",
       "    }\n",
       "\n",
       "    .dataframe tbody tr th {\n",
       "        vertical-align: top;\n",
       "    }\n",
       "\n",
       "    .dataframe thead th {\n",
       "        text-align: right;\n",
       "    }\n",
       "</style>\n",
       "<table border=\"1\" class=\"dataframe\">\n",
       "  <thead>\n",
       "    <tr style=\"text-align: right;\">\n",
       "      <th></th>\n",
       "      <th>0</th>\n",
       "      <th>1</th>\n",
       "    </tr>\n",
       "  </thead>\n",
       "  <tbody>\n",
       "    <tr>\n",
       "      <th>precision</th>\n",
       "      <td>0.428571</td>\n",
       "      <td>0.712000</td>\n",
       "    </tr>\n",
       "    <tr>\n",
       "      <th>recall</th>\n",
       "      <td>0.200000</td>\n",
       "      <td>0.881188</td>\n",
       "    </tr>\n",
       "    <tr>\n",
       "      <th>f1-score</th>\n",
       "      <td>0.272727</td>\n",
       "      <td>0.787611</td>\n",
       "    </tr>\n",
       "    <tr>\n",
       "      <th>support</th>\n",
       "      <td>45.000000</td>\n",
       "      <td>101.000000</td>\n",
       "    </tr>\n",
       "  </tbody>\n",
       "</table>\n",
       "</div>"
      ],
      "text/plain": [
       "                   0           1\n",
       "precision   0.428571    0.712000\n",
       "recall      0.200000    0.881188\n",
       "f1-score    0.272727    0.787611\n",
       "support    45.000000  101.000000"
      ]
     },
     "execution_count": 9,
     "metadata": {},
     "output_type": "execute_result"
    }
   ],
   "source": [
    "classfications[\"Random Forest\"]"
   ]
  },
  {
   "cell_type": "code",
   "execution_count": null,
   "metadata": {},
   "outputs": [],
   "source": []
  }
 ],
 "metadata": {
  "kernelspec": {
   "display_name": "Python 3",
   "language": "python",
   "name": "python3"
  },
  "language_info": {
   "codemirror_mode": {
    "name": "ipython",
    "version": 3
   },
   "file_extension": ".py",
   "mimetype": "text/x-python",
   "name": "python",
   "nbconvert_exporter": "python",
   "pygments_lexer": "ipython3",
   "version": "3.8.3"
  }
 },
 "nbformat": 4,
 "nbformat_minor": 4
}
